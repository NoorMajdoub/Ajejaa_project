{
 "cells": [
  {
   "cell_type": "markdown",
   "metadata": {},
   "source": [
    "# weather"
   ]
  },
  {
   "cell_type": "code",
   "execution_count": null,
   "metadata": {
    "execution": {
     "iopub.execute_input": "2025-07-17T23:30:09.673875Z",
     "iopub.status.busy": "2025-07-17T23:30:09.673513Z",
     "iopub.status.idle": "2025-07-17T23:30:09.712111Z",
     "shell.execute_reply": "2025-07-17T23:30:09.711135Z",
     "shell.execute_reply.started": "2025-07-17T23:30:09.673851Z"
    },
    "trusted": true
   },
   "outputs": [
    {
     "name": "stdout",
     "output_type": "stream",
     "text": [
      "The current weather in sousse: 29.88°C, clear sky\n"
     ]
    }
   ],
   "source": [
    "WEATHER_API_KEY = \n",
    "\n",
    "def get_weather_by_city(city):\n",
    "    weather_url = (\n",
    "        f\"https://api.openweathermap.org/data/2.5/weather?q={city}&appid={WEATHER_API_KEY}&units=metric\"\n",
    "    )\n",
    "    response = requests.get(weather_url)\n",
    "    if response.status_code != 200:\n",
    "        print(\"screwed\")\n",
    "    return response.json()\n",
    "\n",
    "city = \"sousse\"  \n",
    "weather = get_weather_by_city(city)\n",
    "temp = weather[\"main\"][\"temp\"]\n",
    "description = weather[\"weather\"][0][\"description\"]\n",
    "print(f\"The current weather in {city}: {temp}°C, {description}\")\n"
   ]
  },
  {
   "cell_type": "markdown",
   "metadata": {},
   "source": [
    "# trafic"
   ]
  },
  {
   "cell_type": "code",
   "execution_count": 18,
   "metadata": {
    "execution": {
     "iopub.execute_input": "2025-07-17T23:32:36.813132Z",
     "iopub.status.busy": "2025-07-17T23:32:36.812769Z",
     "iopub.status.idle": "2025-07-17T23:32:42.794170Z",
     "shell.execute_reply": "2025-07-17T23:32:42.793088Z",
     "shell.execute_reply.started": "2025-07-17T23:32:36.813096Z"
    },
    "trusted": true
   },
   "outputs": [
    {
     "name": "stdout",
     "output_type": "stream",
     "text": [
      "Collecting snscrape\n",
      "  Downloading snscrape-0.7.0.20230622-py3-none-any.whl.metadata (4.9 kB)\n",
      "Requirement already satisfied: requests[socks] in /usr/local/lib/python3.11/dist-packages (from snscrape) (2.32.4)\n",
      "Requirement already satisfied: lxml in /usr/local/lib/python3.11/dist-packages (from snscrape) (5.4.0)\n",
      "Requirement already satisfied: beautifulsoup4 in /usr/local/lib/python3.11/dist-packages (from snscrape) (4.13.4)\n",
      "Requirement already satisfied: filelock in /usr/local/lib/python3.11/dist-packages (from snscrape) (3.18.0)\n",
      "Requirement already satisfied: soupsieve>1.2 in /usr/local/lib/python3.11/dist-packages (from beautifulsoup4->snscrape) (2.7)\n",
      "Requirement already satisfied: typing-extensions>=4.0.0 in /usr/local/lib/python3.11/dist-packages (from beautifulsoup4->snscrape) (4.14.0)\n",
      "Requirement already satisfied: charset_normalizer<4,>=2 in /usr/local/lib/python3.11/dist-packages (from requests[socks]->snscrape) (3.4.2)\n",
      "Requirement already satisfied: idna<4,>=2.5 in /usr/local/lib/python3.11/dist-packages (from requests[socks]->snscrape) (3.10)\n",
      "Requirement already satisfied: urllib3<3,>=1.21.1 in /usr/local/lib/python3.11/dist-packages (from requests[socks]->snscrape) (2.5.0)\n",
      "Requirement already satisfied: certifi>=2017.4.17 in /usr/local/lib/python3.11/dist-packages (from requests[socks]->snscrape) (2025.6.15)\n",
      "Requirement already satisfied: PySocks!=1.5.7,>=1.5.6 in /usr/local/lib/python3.11/dist-packages (from requests[socks]->snscrape) (1.7.1)\n",
      "Downloading snscrape-0.7.0.20230622-py3-none-any.whl (74 kB)\n",
      "\u001b[2K   \u001b[90m━━━━━━━━━━━━━━━━━━━━━━━━━━━━━━━━━━━━━━━━\u001b[0m \u001b[32m74.8/74.8 kB\u001b[0m \u001b[31m2.4 MB/s\u001b[0m eta \u001b[36m0:00:00\u001b[0m\n",
      "\u001b[?25hInstalling collected packages: snscrape\n",
      "Successfully installed snscrape-0.7.0.20230622\n"
     ]
    }
   ],
   "source": [
    "!pip install snscrape\n"
   ]
  },
  {
   "cell_type": "code",
   "execution_count": null,
   "metadata": {
    "collapsed": true,
    "execution": {
     "iopub.execute_input": "2025-07-17T23:32:46.839225Z",
     "iopub.status.busy": "2025-07-17T23:32:46.838801Z",
     "iopub.status.idle": "2025-07-17T23:32:54.497694Z",
     "shell.execute_reply": "2025-07-17T23:32:54.496291Z",
     "shell.execute_reply.started": "2025-07-17T23:32:46.839189Z"
    },
    "jupyter": {
     "outputs_hidden": true
    },
    "trusted": true
   },
   "outputs": [],
   "source": [
    "import snscrape.modules.twitter as sntwitter\n",
    "\n",
    "query = \"accident Sousse since:2025-07-01\"\n",
    "for tweet in sntwitter.TwitterSearchScraper(query).get_items():\n",
    "    print(tweet.date, tweet.user.username, tweet.content)\n",
    "    break  \n"
   ]
  },
  {
   "cell_type": "code",
   "execution_count": null,
   "metadata": {
    "_cell_guid": "b1076dfc-b9ad-4769-8c92-a6c4dae69d19",
    "_uuid": "8f2839f25d086af736a60e9eeb907d3b93b6e0e5",
    "execution": {
     "iopub.execute_input": "2025-07-17T19:52:37.189640Z",
     "iopub.status.busy": "2025-07-17T19:52:37.189061Z",
     "iopub.status.idle": "2025-07-17T19:52:37.785616Z",
     "shell.execute_reply": "2025-07-17T19:52:37.784707Z",
     "shell.execute_reply.started": "2025-07-17T19:52:37.189618Z"
    },
    "trusted": true
   },
   "outputs": [
    {
     "name": "stdout",
     "output_type": "stream",
     "text": [
      "Some road names in Tunis: []\n"
     ]
    }
   ],
   "source": []
  },
  {
   "cell_type": "markdown",
   "metadata": {},
   "source": [
    "#tom tom"
   ]
  },
  {
   "cell_type": "code",
   "execution_count": 4,
   "metadata": {
    "execution": {
     "iopub.execute_input": "2025-07-17T20:07:59.789835Z",
     "iopub.status.busy": "2025-07-17T20:07:59.788852Z",
     "iopub.status.idle": "2025-07-17T20:07:59.907930Z",
     "shell.execute_reply": "2025-07-17T20:07:59.907039Z",
     "shell.execute_reply.started": "2025-07-17T20:07:59.789798Z"
    },
    "trusted": true
   },
   "outputs": [
    {
     "name": "stdout",
     "output_type": "stream",
     "text": [
      "Current speed: {'error': 'Point too far from nearest existing segment.', 'httpStatusCode': 400, 'detailedError': {'code': 'INVALID_REQUEST', 'message': 'Point too far from nearest existing segment.'}} km/h\n"
     ]
    }
   ],
   "source": [
    "key=\"sojySyBttCiALhP6iK8fcfvx0gTthW6W\"\n",
    "import requests\n",
    "\n",
    "API_KEY = key  # Replace with your TomTom API Key\n",
    "lat, lon = 36.8065, 10.1815  # Tunis\n",
    "\n",
    "url = \"https://api.tomtom.com/traffic/services/4/flowSegmentData/absolute/10/json\"\n",
    "params = {\n",
    "    \"point\": f\"{lat},{lon}\",\n",
    "    \"key\": API_KEY\n",
    "}\n",
    "\n",
    "response = requests.get(url, params=params)\n",
    "data = response.json()\n",
    "\n",
    "print(\"Current speed:\", data, \"km/h\")\n"
   ]
  },
  {
   "cell_type": "code",
   "execution_count": null,
   "metadata": {
    "trusted": true
   },
   "outputs": [],
   "source": [
    "#scrap and get info from social media posts \n",
    "import requests\n",
    "\n",
    "# query: Get all highways (roads) in part of Tunis\n",
    "overpass_url = \"http://overpass-api.de/api/interpreter\"\n",
    "overpass_query = \"\"\"\n",
    "[out:json];\n",
    "area[\"name\"=\"Tunis\"][admin_level=8];\n",
    "(way[\"highway\"](area););\n",
    "out body;\n",
    ">;\n",
    "out skel qt;\n",
    "\"\"\"\n",
    "\n",
    "response = requests.get(overpass_url, params={'data': overpass_query})\n",
    "data = response.json()\n",
    "\n",
    "#road names\n",
    "roads = []\n",
    "for element in data['elements']:\n",
    "    if element['type'] == 'way' and 'tags' in element:\n",
    "        name = element['tags'].get('name')\n",
    "        if name:\n",
    "            roads.append(name)\n",
    "\n",
    "print(\"Some road names in Tunis:\", roads[:10])\n"
   ]
  },
  {
   "cell_type": "markdown",
   "metadata": {},
   "source": [
    "# ask the llm"
   ]
  },
  {
   "cell_type": "code",
   "execution_count": null,
   "metadata": {
    "execution": {
     "iopub.execute_input": "2025-07-18T04:15:04.954177Z",
     "iopub.status.busy": "2025-07-18T04:15:04.953728Z",
     "iopub.status.idle": "2025-07-18T04:15:13.537783Z",
     "shell.execute_reply": "2025-07-18T04:15:13.536646Z",
     "shell.execute_reply.started": "2025-07-18T04:15:04.954134Z"
    },
    "trusted": true
   },
   "outputs": [
    {
     "name": "stdout",
     "output_type": "stream",
     "text": [
      "\u001b[2K     \u001b[90m━━━━━━━━━━━━━━━━━━━━━━━━━━━━━━━━━━━━━━━━\u001b[0m \u001b[32m42.4/42.4 kB\u001b[0m \u001b[31m1.3 MB/s\u001b[0m eta \u001b[36m0:00:00\u001b[0m\n",
      "\u001b[2K   \u001b[90m━━━━━━━━━━━━━━━━━━━━━━━━━━━━━━━━━━━━━━━━\u001b[0m \u001b[32m217.7/217.7 kB\u001b[0m \u001b[31m5.8 MB/s\u001b[0m eta \u001b[36m0:00:00\u001b[0m:00:01\u001b[0m\n",
      "\u001b[?25h"
     ]
    }
   ],
   "source": [
    "API_KEY=\n",
    "!pip install -q -U google-genai\n",
    "from google import genai"
   ]
  },
  {
   "cell_type": "code",
   "execution_count": 22,
   "metadata": {
    "execution": {
     "iopub.execute_input": "2025-07-17T23:59:02.582646Z",
     "iopub.status.busy": "2025-07-17T23:59:02.581612Z",
     "iopub.status.idle": "2025-07-17T23:59:06.853608Z",
     "shell.execute_reply": "2025-07-17T23:59:06.852608Z",
     "shell.execute_reply.started": "2025-07-17T23:59:02.582607Z"
    },
    "trusted": true
   },
   "outputs": [
    {
     "name": "stdout",
     "output_type": "stream",
     "text": [
      "Okay, here's how you can get to Sahloul Hospital from Sousse:\n",
      "\n",
      "**1. By Taxi:**\n",
      "\n",
      "*   This is the easiest and most direct option. Taxis are readily available in Sousse.\n",
      "*   **How to do it:** Just hail a taxi on the street or ask your hotel/restaurant to call one for you.\n",
      "*   **Tell the driver:** Say \"Hopital Sahloul, min fadlak\" (هوبيتال سهلول، من فضلك) which means \"Sahloul Hospital, please\".\n",
      "*   **Cost:** The fare will likely be relatively inexpensive, but always confirm the approximate price beforehand or ensure the driver uses the meter (especially if you're not familiar with the area).\n",
      "*   **Travel Time:** Depending on your exact location in Sousse and traffic, it should take around 10-20 minutes.\n",
      "\n",
      "**2. By Bus:**\n",
      "\n",
      "*   This is the most economical but potentially more time-consuming option.\n",
      "*   **How to do it:** You'll need to find the correct bus line that goes towards Sahloul. Ask a local for help identifying the correct bus stop and bus number.\n",
      "*   **Travel Time:** It depends on the bus route, stops, and traffic but will be longer than taking a taxi.\n",
      "*   **Cost:**Very Cheap\n",
      "\n",
      "**Important Considerations:**\n",
      "\n",
      "*   **Traffic:** Be aware that traffic in Sousse can be heavy, especially during peak hours. This can affect travel times.\n",
      "*   **Language:** While many people in tourist areas speak some English or French, knowing a few basic Arabic phrases can be helpful.\n",
      "*   **Safety:** As always, be aware of your surroundings and take normal safety precautions, especially when hailing a taxi on the street.\n",
      "*   **Emergency:** If you need to get to the hospital urgently, a taxi is the best option. Don't hesitate to call an ambulance if needed.\n",
      "\n",
      "**I recommend taking a taxi for speed and convenience, especially if you are unfamiliar with the area. Have a safe trip!**\n",
      "\n"
     ]
    }
   ],
   "source": [
    "def askLLM(instruction):\n",
    "\n",
    "            client = genai.Client(api_key=API_KEY)\n",
    "    \n",
    "            \n",
    "            response = client.models.generate_content(\n",
    "                model=\"gemini-2.0-flash\", contents=f\"If i am in sousse right now how can i get to sahloud hospital,\"\n",
    "            )\n",
    "            return response.text\n",
    "\n",
    "\n",
    "code=askLLM(\"code\")\n",
    "print(code)"
   ]
  },
  {
   "cell_type": "code",
   "execution_count": null,
   "metadata": {
    "execution": {
     "iopub.execute_input": "2025-07-17T23:48:02.476636Z",
     "iopub.status.busy": "2025-07-17T23:48:02.475896Z",
     "iopub.status.idle": "2025-07-17T23:48:02.510904Z",
     "shell.execute_reply": "2025-07-17T23:48:02.509937Z",
     "shell.execute_reply.started": "2025-07-17T23:48:02.476599Z"
    },
    "trusted": true
   },
   "outputs": [
    {
     "name": "stdout",
     "output_type": "stream",
     "text": [
      "Error: REQUEST_DENIED\n"
     ]
    }
   ],
   "source": [
    "import requests\n",
    "\n",
    "GOOGLE_MAPS_API_KEY = \n",
    "origin = \"Msaken, Tunisia\"\n",
    "destination = \"Sahloul Hospital, Sousse, Tunisia\"\n",
    "\n",
    "url = f\"https://maps.googleapis.com/maps/api/directions/json?origin={origin}&destination={destination}&key={GOOGLE_MAPS_API_KEY}\"\n",
    "\n",
    "response = requests.get(url)\n",
    "data = response.json()\n",
    "\n",
    "if data[\"status\"] == \"OK\":\n",
    "    steps = data[\"routes\"][0][\"legs\"][0][\"steps\"]\n",
    "    for i, step in enumerate(steps, 1):\n",
    "        instruction = step[\"html_instructions\"]\n",
    "        road = step.get(\"maneuver\", \"road\")\n",
    "        distance = step[\"distance\"][\"text\"]\n",
    "        print(f\"{i}. {instruction} ({distance})\")\n",
    "else:\n",
    "    print(\"Error:\", data[\"status\"])\n"
   ]
  },
  {
   "cell_type": "code",
   "execution_count": null,
   "metadata": {
    "trusted": true
   },
   "outputs": [],
   "source": []
  }
 ],
 "metadata": {
  "kaggle": {
   "accelerator": "none",
   "dataSources": [],
   "dockerImageVersionId": 31089,
   "isGpuEnabled": false,
   "isInternetEnabled": true,
   "language": "python",
   "sourceType": "notebook"
  },
  "kernelspec": {
   "display_name": "Python 3",
   "language": "python",
   "name": "python3"
  },
  "language_info": {
   "codemirror_mode": {
    "name": "ipython",
    "version": 3
   },
   "file_extension": ".py",
   "mimetype": "text/x-python",
   "name": "python",
   "nbconvert_exporter": "python",
   "pygments_lexer": "ipython3",
   "version": "3.12.1"
  }
 },
 "nbformat": 4,
 "nbformat_minor": 4
}
